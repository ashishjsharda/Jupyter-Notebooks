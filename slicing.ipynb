{
  "cells":[
    {
      "cell_type":"code",
      "source":[
        "#slicing\n",
        "s=\"bicycle\"\n",
        "s[::3]"
      ],
      "execution_count":1,
      "outputs":[
        {
          "data":{
            "text\/plain":[
              "'bye'"
            ]
          },
          "metadata":{
            
          },
          "output_type":"display_data"
        }
      ],
      "metadata":{
        
      }
    }
  ],
  "metadata":{
    
  },
  "nbformat":4,
  "nbformat_minor":0
}