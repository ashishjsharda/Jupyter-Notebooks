{
  "cells":[
    {
      "cell_type":"code",
      "source":[
        "from unicodedata import normalize\n",
        "s1 = 'café'\n",
        "s2 = 'cafe\\N{COMBINING ACUTE ACCENT}'\n",
        "len(s1), len(s2)"
      ],
      "execution_count":1,
      "outputs":[
        {
          "data":{
            "text\/plain":[
              "(4, 5)"
            ]
          },
          "metadata":{
            
          },
          "output_type":"display_data"
        }
      ],
      "metadata":{
        
      }
    },
    {
      "cell_type":"code",
      "source":[
        "len(normalize('NFC', s1)), len(normalize('NFC', s2))"
      ],
      "execution_count":2,
      "outputs":[
        {
          "data":{
            "text\/plain":[
              "(4, 4)"
            ]
          },
          "metadata":{
            
          },
          "output_type":"display_data"
        }
      ],
      "metadata":{
        
      }
    }
  ],
  "metadata":{
    
  },
  "nbformat":4,
  "nbformat_minor":0
}