{
  "nbformat": 4,
  "nbformat_minor": 0,
  "metadata": {
    "colab": {
      "provenance": []
    },
    "kernelspec": {
      "name": "python3",
      "display_name": "Python 3"
    },
    "language_info": {
      "name": "python"
    }
  },
  "cells": [
    {
      "cell_type": "code",
      "execution_count": 2,
      "metadata": {
        "colab": {
          "base_uri": "https://localhost:8080/"
        },
        "id": "GsmhBwnzGymW",
        "outputId": "3ead83d9-f5a7-465e-83e2-210bca373383"
      },
      "outputs": [
        {
          "output_type": "stream",
          "name": "stdout",
          "text": [
            "Fuzzy Set Intersection is : {'a': 0.2, 'b': 0.3, 'c': 0.4, 'd': 0.5}\n"
          ]
        }
      ],
      "source": [
        "# Intersection of Two Fuzzy Sets\n",
        "Y={}\n",
        "A = {\"a\": 0.2, \"b\": 0.3, \"c\": 0.6, \"d\": 0.6}\n",
        "B = {\"a\": 0.9, \"b\": 0.9, \"c\": 0.4, \"d\": 0.5}\n",
        "\n",
        "for A_key, B_key in zip(A, B):\n",
        "   A_value = A[A_key]\n",
        "   B_value = B[B_key]\n",
        "\n",
        "   if A_value < B_value:\n",
        "       Y[A_key] = A_value\n",
        "   else:\n",
        "       Y[B_key] = B_value\n",
        "print('Fuzzy Set Intersection is :', Y)\n"
      ]
    }
  ]
}