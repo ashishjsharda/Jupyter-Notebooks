{
 "cells":[
  {
   "cell_type":"code",
   "source":[
    "import numpy as np\n",
    "\n",
    "def cross_entropy(p, q):\n",
    "    return -sum([p[i] * np.log(q[i]) for i in range(len(p))])\n",
    "\n",
    "\n",
    "p = [0, 0, 0, 1]\n",
    "q = [0.45, 0.2, 0.02, 0.33]\n",
    "cross_entropy(p, q)"
   ],
   "execution_count":2,
   "outputs":[
    {
     "data":{
      "text\/plain":[
       "1.1086626245216111"
      ]
     },
     "metadata":{
      
     },
     "output_type":"display_data"
    }
   ],
   "metadata":{
    "datalore":{
     "node_id":"gDobqvRMTu7NHyDszrxkCo",
     "type":"CODE",
     "hide_input_from_viewers":true,
     "hide_output_from_viewers":true
    }
   }
  }
 ],
 "metadata":{
  "kernelspec":{
   "display_name":"Python",
   "language":"python",
   "name":"python"
  },
  "datalore":{
   "computation_mode":"JUPYTER",
   "package_manager":"pip",
   "base_environment":"default",
   "packages":[
    
   ],
   "report_row_ids":[
    
   ],
   "version":2
  }
 },
 "nbformat":4,
 "nbformat_minor":4
}