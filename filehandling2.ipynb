{
  "cells":[
    {
      "cell_type":"code",
      "source":[
        "\n",
        "fp=open(\"cafe.txt\",'w',encoding='utf_8')\n",
        "fp.write(\"cafe\")\n",
        "fp.close()\n",
        "import  os\n",
        "os.stat('cafe.txt').st_size"
      ],
      "execution_count":5,
      "outputs":[
        {
          "data":{
            "text\/plain":[
              "4"
            ]
          },
          "metadata":{
            
          },
          "output_type":"display_data"
        }
      ],
      "metadata":{
        
      }
    }
  ],
  "metadata":{
    
  },
  "nbformat":4,
  "nbformat_minor":0
}