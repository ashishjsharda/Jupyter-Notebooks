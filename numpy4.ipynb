{
  "cells":[
    {
      "cell_type":"code",
      "source":[
        "import  numpy as np\n",
        "A=np.array([[2,3],[5,4]])\n",
        "b=np.array([4,3])\n",
        "np.linalg.matrix_rank(A)"
      ],
      "execution_count":1,
      "outputs":[
        {
          "data":{
            "text\/plain":[
              "2"
            ]
          },
          "metadata":{
            
          },
          "output_type":"display_data"
        }
      ],
      "metadata":{
        
      }
    }
  ],
  "metadata":{
    
  },
  "nbformat":4,
  "nbformat_minor":0
}