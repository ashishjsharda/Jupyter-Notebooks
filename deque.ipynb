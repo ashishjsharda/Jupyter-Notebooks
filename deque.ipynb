{
  "cells":[
    {
      "cell_type":"code",
      "source":[
        "from collections import deque\n",
        "dq=deque(range(10),maxlen=10)\n",
        "dq"
      ],
      "execution_count":2,
      "outputs":[
        {
          "data":{
            "text\/plain":[
              "deque([0, 1, 2, 3, 4, 5, 6, 7, 8, 9])"
            ]
          },
          "metadata":{
            
          },
          "output_type":"display_data"
        }
      ],
      "metadata":{
        
      }
    }
  ],
  "metadata":{
    
  },
  "nbformat":4,
  "nbformat_minor":0
}