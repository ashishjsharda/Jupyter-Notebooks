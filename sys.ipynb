{
  "cells":[
    {
      "cell_type":"code",
      "source":[
        "import sys\n",
        "from unicodedata import name\n",
        "print(sys.version)\n",
        "print(sys.stdout.isatty())\n",
        "print(sys.stdout.encoding)"
      ],
      "execution_count":1,
      "outputs":[
        {
          "name":"stdout",
          "text":[
            "3.8.7 (default, Aug 19 2021, 15:53:09) \n",
            "[GCC 9.3.0]\n",
            "False\n",
            "UTF-8\n"
          ],
          "output_type":"stream"
        }
      ],
      "metadata":{
        
      }
    }
  ],
  "metadata":{
    
  },
  "nbformat":4,
  "nbformat_minor":0
}