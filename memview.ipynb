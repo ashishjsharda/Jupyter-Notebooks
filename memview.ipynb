{
  "nbformat": 4,
  "nbformat_minor": 0,
  "metadata": {
    "colab": {
      "name": "Untitled41.ipynb",
      "provenance": []
    },
    "kernelspec": {
      "name": "python3",
      "display_name": "Python 3"
    },
    "language_info": {
      "name": "python"
    }
  },
  "cells": [
    {
      "cell_type": "code",
      "metadata": {
        "colab": {
          "base_uri": "https://localhost:8080/"
        },
        "id": "Yb8VKzDMQtgr",
        "outputId": "b34133f6-0467-441e-9361-5b0de62ac40c"
      },
      "source": [
        "from array import  array\n",
        "octets=array('B',range(6))\n",
        "m1=memoryview(octets)\n",
        "m1.tolist()\n",
        "m2=m1.cast('B',[2,3])\n",
        "m2.tolist()\n",
        "octets"
      ],
      "execution_count": 1,
      "outputs": [
        {
          "output_type": "execute_result",
          "data": {
            "text/plain": [
              "array('B', [0, 1, 2, 3, 4, 5])"
            ]
          },
          "metadata": {
            "tags": []
          },
          "execution_count": 1
        }
      ]
    }
  ]
}