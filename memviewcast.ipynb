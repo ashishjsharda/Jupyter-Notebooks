{
  "cells":[
    {
      "cell_type":"code",
      "source":[
        "from array import array\n",
        "octets=array('B',range(6))\n",
        "m1=memoryview(octets)\n",
        "m1"
      ],
      "execution_count":2,
      "outputs":[
        {
          "data":{
            "text\/plain":[
              "<memory at 0x7f34bc217c40>"
            ]
          },
          "metadata":{
            
          },
          "output_type":"display_data"
        }
      ],
      "metadata":{
        
      }
    },
    {
      "cell_type":"code",
      "source":[
        "m1.tolist()"
      ],
      "execution_count":3,
      "outputs":[
        {
          "data":{
            "text\/plain":[
              "[0, 1, 2, 3, 4, 5]"
            ]
          },
          "metadata":{
            
          },
          "output_type":"display_data"
        }
      ],
      "metadata":{
        
      }
    }
  ],
  "metadata":{
    
  },
  "nbformat":4,
  "nbformat_minor":0
}