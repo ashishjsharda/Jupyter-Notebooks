{
  "nbformat": 4,
  "nbformat_minor": 0,
  "metadata": {
    "colab": {
      "name": "Untitled39.ipynb",
      "provenance": []
    },
    "kernelspec": {
      "name": "python3",
      "display_name": "Python 3"
    },
    "language_info": {
      "name": "python"
    }
  },
  "cells": [
    {
      "cell_type": "code",
      "metadata": {
        "colab": {
          "base_uri": "https://localhost:8080/"
        },
        "id": "KOVTRV31XPqT",
        "outputId": "739148c4-e8d6-453c-90a5-f6166c2b83a2"
      },
      "source": [
        "import bisect\n",
        "import sys\n",
        "\n",
        "HAYSTACK = [1, 4, 5, 6, 8, 12, 15, 20, 21, 23, 23, 26, 29, 30]\n",
        "NEEDLES = [0, 1, 2, 5, 8, 10, 22, 23, 29, 30, 31]\n",
        "\n",
        "ROW_FMT = '{0:2d} @ {1:2d}    {2}{0:<2d}'\n",
        "\n",
        "def demo(bisect_fn):\n",
        "    for needle in reversed(NEEDLES):\n",
        "        position = bisect_fn(HAYSTACK, needle)  \n",
        "        offset = position * '  |'  \n",
        "        print(ROW_FMT.format(needle, position, offset))  \n",
        "\n",
        "if __name__ == '__main__':\n",
        "\n",
        "    if sys.argv[-1] == 'left':    \n",
        "        bisect_fn = bisect.bisect_left\n",
        "    else:\n",
        "        bisect_fn = bisect.bisect\n",
        "\n",
        "    print('DEMO:', bisect_fn.__name__)  \n",
        "    print('haystack ->', ' '.join(f'{n:2}' for n in HAYSTACK))\n",
        "    demo(bisect_fn)"
      ],
      "execution_count": null,
      "outputs": [
        {
          "output_type": "stream",
          "text": [
            "DEMO: bisect_right\n",
            "haystack ->  1  4  5  6  8 12 15 20 21 23 23 26 29 30\n",
            "31 @ 14      |  |  |  |  |  |  |  |  |  |  |  |  |  |31\n",
            "30 @ 14      |  |  |  |  |  |  |  |  |  |  |  |  |  |30\n",
            "29 @ 13      |  |  |  |  |  |  |  |  |  |  |  |  |29\n",
            "23 @ 11      |  |  |  |  |  |  |  |  |  |  |23\n",
            "22 @  9      |  |  |  |  |  |  |  |  |22\n",
            "10 @  5      |  |  |  |  |10\n",
            " 8 @  5      |  |  |  |  |8 \n",
            " 5 @  3      |  |  |5 \n",
            " 2 @  1      |2 \n",
            " 1 @  1      |1 \n",
            " 0 @  0    0 \n"
          ],
          "name": "stdout"
        }
      ]
    }
  ]
}