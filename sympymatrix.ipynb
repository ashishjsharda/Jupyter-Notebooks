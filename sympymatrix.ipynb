{
  "cells":[
    {
      "cell_type":"code",
      "source":[
        "import sympy\n",
        "A=sympy.Matrix([[1,2],[3,4]])\n",
        "L, U, _ = A.LUdecomposition()\n",
        "L"
      ],
      "execution_count":1,
      "outputs":[
        {
          "data":{
            "text\/latex":[
              "$\\displaystyle \\left[\\begin{matrix}1 & 0\\\\3 & 1\\end{matrix}\\right]$"
            ]
          },
          "metadata":{
            
          },
          "output_type":"display_data"
        }
      ],
      "metadata":{
        
      }
    }
  ],
  "metadata":{
    
  },
  "nbformat":4,
  "nbformat_minor":0
}