{
  "cells":[
    {
      "cell_type":"code",
      "source":[
        "tt = (1, 2, (30, 40))\n",
        "hash(tt)"
      ],
      "execution_count":8,
      "outputs":[
        {
          "data":{
            "text\/plain":[
              "-3907003130834322577"
            ]
          },
          "metadata":{
            
          },
          "output_type":"display_data"
        }
      ],
      "metadata":{
        
      }
    }
  ],
  "metadata":{
    
  },
  "nbformat":4,
  "nbformat_minor":0
}