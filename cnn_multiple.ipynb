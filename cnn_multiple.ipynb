{
 "cells": [
  {
   "cell_type": "code",
   "execution_count": 3,
   "metadata": {
    "pycharm": {
     "is_executing": true
    }
   },
   "outputs": [
    {
     "name": "stdout",
     "output_type": "stream",
     "text": [
      "Input image shape:  (1, 4, 4, 3)\n",
      "Filter weights shape:  (3, 3, 3, 2)\n",
      "Output shape:  (1, 2, 2, 2)\n"
     ]
    }
   ],
   "source": [
    "import numpy as np\n",
    "import tensorflow as tf\n",
    "\n",
    "# Create a random 4x4 input image with 3 channels\n",
    "input_image = np.random.rand(1, 4, 4, 3)\n",
    "\n",
    "# Create a TensorFlow convolutional layer with 2 filters\n",
    "conv_layer = tf.keras.layers.Conv2D(filters=2, kernel_size=3, kernel_initializer=tf.constant_initializer(np.random.rand(3, 3, 3, 2)))\n",
    "\n",
    "# Apply convolution to the input image\n",
    "output = conv_layer(input_image)\n",
    "\n",
    "print(\"Input image shape: \", input_image.shape)\n",
    "print(\"Filter weights shape: \", conv_layer.get_weights()[0].shape)\n",
    "print(\"Output shape: \", output.shape)\n"
   ]
  },
  {
   "cell_type": "code",
   "execution_count": null,
   "metadata": {},
   "outputs": [],
   "source": []
  }
 ],
 "metadata": {
  "kernelspec": {
   "display_name": "Python 3 (ipykernel)",
   "language": "python",
   "name": "python3"
  },
  "language_info": {
   "codemirror_mode": {
    "name": "ipython",
    "version": 3
   },
   "file_extension": ".py",
   "mimetype": "text/x-python",
   "name": "python",
   "nbconvert_exporter": "python",
   "pygments_lexer": "ipython3",
   "version": "3.11.1"
  }
 },
 "nbformat": 4,
 "nbformat_minor": 1
}
