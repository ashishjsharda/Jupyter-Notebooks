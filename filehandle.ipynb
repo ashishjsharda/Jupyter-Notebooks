{
  "cells":[
    {
      "cell_type":"code",
      "source":[
        "\n",
        "fp=open(\"temp.txt\",\"w\",encoding=\"utf_8\")\n",
        "fp.write(\"Hello World\")\n",
        "fp.close()\n",
        "fp2=open(\"temp.txt\",\"r\")\n",
        "print(fp2)\n",
        "print(fp2.encoding)\n",
        "print(fp2.read())\n",
        "fp2.close()"
      ],
      "execution_count":1,
      "outputs":[
        {
          "name":"stdout",
          "text":[
            "<_io.TextIOWrapper name='temp.txt' mode='r' encoding='UTF-8'>\n",
            "UTF-8\n",
            "Hello World\n"
          ],
          "output_type":"stream"
        }
      ],
      "metadata":{
        
      }
    }
  ],
  "metadata":{
    
  },
  "nbformat":4,
  "nbformat_minor":0
}