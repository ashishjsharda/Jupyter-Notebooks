{
  "cells":[
    {
      "cell_type":"code",
      "source":[
        "from collections import abc\n",
        "issubclass(tuple,abc.Sequence)\n",
        "issubclass(list,abc.Sequence)"
      ],
      "execution_count":1,
      "outputs":[
        {
          "data":{
            "text\/plain":[
              "True"
            ]
          },
          "metadata":{
            
          },
          "output_type":"display_data"
        }
      ],
      "metadata":{
        
      }
    }
  ],
  "metadata":{
    
  },
  "nbformat":4,
  "nbformat_minor":0
}