{
  "nbformat": 4,
  "nbformat_minor": 0,
  "metadata": {
    "colab": {
      "name": "Untitled17.ipynb",
      "provenance": []
    },
    "kernelspec": {
      "name": "python3",
      "display_name": "Python 3"
    }
  },
  "cells": [
    {
      "cell_type": "code",
      "metadata": {
        "id": "9pBxotW-zraL"
      },
      "source": [
        "from nltk.tokenize import sent_tokenize"
      ],
      "execution_count": 1,
      "outputs": []
    },
    {
      "cell_type": "code",
      "metadata": {
        "colab": {
          "base_uri": "https://localhost:8080/"
        },
        "id": "k8qMbNSJzxZZ",
        "outputId": "a9bdbf80-5068-4ab0-cc03-aaa9b3bfd9f7"
      },
      "source": [
        "import nltk\r\n",
        "nltk.download('punkt')\r\n",
        "text = \"God is Great! I won a lottery.\"\r\n",
        "print(sent_tokenize(text))"
      ],
      "execution_count": 3,
      "outputs": [
        {
          "output_type": "stream",
          "text": [
            "[nltk_data] Downloading package punkt to /root/nltk_data...\n",
            "[nltk_data]   Unzipping tokenizers/punkt.zip.\n",
            "['God is Great!', 'I won a lottery.']\n"
          ],
          "name": "stdout"
        }
      ]
    }
  ]
}