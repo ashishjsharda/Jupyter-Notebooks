{
  "nbformat": 4,
  "nbformat_minor": 0,
  "metadata": {
    "colab": {
      "name": "Untitled12.ipynb",
      "provenance": []
    },
    "kernelspec": {
      "name": "python3",
      "display_name": "Python 3"
    }
  },
  "cells": [
    {
      "cell_type": "code",
      "metadata": {
        "id": "3FvJAQM2G7tb"
      },
      "source": [
        "from sklearn.cluster import DBSCAN\r\n",
        "import numpy as np"
      ],
      "execution_count": 1,
      "outputs": []
    },
    {
      "cell_type": "code",
      "metadata": {
        "colab": {
          "base_uri": "https://localhost:8080/"
        },
        "id": "eUzyHOq7HAa2",
        "outputId": "73f2723f-da39-4d25-ffe6-3619a18b527a"
      },
      "source": [
        "X = np.array([ [1, 2], [2, 2], [7, 6], [8, 7], [2, 3], [25, 8] ])\r\n",
        "dbscan = DBSCAN(eps = 3, min_samples = 2)\r\n",
        "model = dbscan.fit(X)\r\n",
        "print(model.labels_)"
      ],
      "execution_count": 3,
      "outputs": [
        {
          "output_type": "stream",
          "text": [
            "[ 0  0  1  1  0 -1]\n"
          ],
          "name": "stdout"
        }
      ]
    }
  ]
}