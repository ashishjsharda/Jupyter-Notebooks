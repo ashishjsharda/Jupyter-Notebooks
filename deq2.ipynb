{
  "cells":[
    {
      "cell_type":"code",
      "source":[
        "from collections import deque\n",
        "dq=deque(range(10),maxlen=10)\n",
        "dq.rotate(3)\n",
        "dq"
      ],
      "execution_count":5,
      "outputs":[
        {
          "data":{
            "text\/plain":[
              "deque([7, 8, 9, 0, 1, 2, 3, 4, 5, 6])"
            ]
          },
          "metadata":{
            
          },
          "output_type":"display_data"
        }
      ],
      "metadata":{
        
      }
    }
  ],
  "metadata":{
    
  },
  "nbformat":4,
  "nbformat_minor":0
}