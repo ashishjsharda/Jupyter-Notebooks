{
  "nbformat": 4,
  "nbformat_minor": 0,
  "metadata": {
    "colab": {
      "name": "Untitled34.ipynb",
      "provenance": []
    },
    "kernelspec": {
      "name": "python3",
      "display_name": "Python 3"
    },
    "language_info": {
      "name": "python"
    }
  },
  "cells": [
    {
      "cell_type": "code",
      "metadata": {
        "colab": {
          "base_uri": "https://localhost:8080/"
        },
        "id": "HWEF6SxVV1xM",
        "outputId": "7225ac26-47ff-4788-ba6e-e696a452bf05"
      },
      "source": [
        "from sklearn.neighbors import KNeighborsClassifier\n",
        "from sklearn.model_selection import train_test_split\n",
        "from sklearn.datasets import load_iris\n",
        "iris_dataset = load_iris()\n",
        "X_train, X_test, y_train, y_test = train_test_split(\n",
        "    iris_dataset['data'], iris_dataset['target'], random_state=0)\n",
        "knn=KNeighborsClassifier(n_neighbors=1)\n",
        "import numpy as np\n",
        "X_new =np.array([[5, 2.9, 1, 0.2]])\n",
        "print(\"New shape is \",X_new.shape)\n",
        "knn.fit(X_train, y_train)\n",
        "prediction=knn.predict(X_new)\n",
        "print(\"Prediction is \",prediction)"
      ],
      "execution_count": 11,
      "outputs": [
        {
          "output_type": "stream",
          "text": [
            "New shape is  (1, 4)\n",
            "Prediction is  [0]\n"
          ],
          "name": "stdout"
        }
      ]
    }
  ]
}