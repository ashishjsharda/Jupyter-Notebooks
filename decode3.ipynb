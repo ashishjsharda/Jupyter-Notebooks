{
  "cells":[
    {
      "cell_type":"code",
      "source":[
        "octets = b'Montr\\xe9al'\n",
        "print(octets.decode('cp1252'))\n",
        "print(octets.decode('iso8859_7'))\n",
        "print(octets.decode('koi8_r') )"
      ],
      "execution_count":6,
      "outputs":[
        {
          "name":"stdout",
          "text":[
            "Montréal\n",
            "Montrιal\n",
            "MontrИal\n"
          ],
          "output_type":"stream"
        }
      ],
      "metadata":{
        
      }
    }
  ],
  "metadata":{
    
  },
  "nbformat":4,
  "nbformat_minor":0
}