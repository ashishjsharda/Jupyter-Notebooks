{
 "cells":[
  {
   "cell_type":"code",
   "source":[
    "!pip install pandas"
   ],
   "execution_count":1,
   "outputs":[
    {
     "name":"stdout",
     "text":[
      "Requirement already satisfied: pandas in \/opt\/python\/envs\/default\/lib\/python3.8\/site-packages (1.3.5)\r\n",
      "Requirement already satisfied: numpy>=1.17.3 in \/opt\/python\/envs\/default\/lib\/python3.8\/site-packages (from pandas) (1.21.5)\r\n",
      "Requirement already satisfied: python-dateutil>=2.7.3 in \/opt\/python\/envs\/default\/lib\/python3.8\/site-packages (from pandas) (2.8.2)\r\n",
      "Requirement already satisfied: pytz>=2017.3 in \/opt\/python\/envs\/default\/lib\/python3.8\/site-packages (from pandas) (2022.1)\r\n",
      "Requirement already satisfied: six>=1.5 in \/opt\/python\/envs\/default\/lib\/python3.8\/site-packages (from python-dateutil>=2.7.3->pandas) (1.16.0)\r\n",
      "\u001b[33mWARNING: You are using pip version 21.3.1; however, version 22.1.2 is available.\r\n",
      "You should consider upgrading via the '\/opt\/python\/envs\/default\/bin\/python -m pip install --upgrade pip' command.\u001b[0m\r\n"
     ],
     "output_type":"stream"
    }
   ],
   "metadata":{
    "datalore":{
     "type":"CODE",
     "hide_input_from_viewers":false,
     "hide_output_from_viewers":false
    }
   }
  },
  {
   "cell_type":"code",
   "source":[
    "import os\n",
    "import pandas as pd\n",
    "s = os.path.join('https:\/\/archive.ics.uci.edu', 'ml',\n",
    "                'machine-learning-databases',\n",
    "                  'iris','iris.data')\n",
    "print('URL:', s)\n",
    "df = pd.read_csv(s,\n",
    "                  header=None,\n",
    "                  encoding='utf-8')\n",
    "df.tail()"
   ],
   "execution_count":3,
   "outputs":[
    {
     "name":"stdout",
     "text":[
      "URL: https:\/\/archive.ics.uci.edu\/ml\/machine-learning-databases\/iris\/iris.data\n"
     ],
     "output_type":"stream"
    },
    {
     "data":{
      "text\/html":[
       "<div>\n",
       "<style scoped>\n",
       "    .dataframe tbody tr th:only-of-type {\n",
       "        vertical-align: middle;\n",
       "    }\n",
       "\n",
       "    .dataframe tbody tr th {\n",
       "        vertical-align: top;\n",
       "    }\n",
       "\n",
       "    .dataframe thead th {\n",
       "        text-align: right;\n",
       "    }\n",
       "<\/style>\n",
       "<table border=\"1\" class=\"dataframe\">\n",
       "  <thead>\n",
       "    <tr style=\"text-align: right;\">\n",
       "      <th><\/th>\n",
       "      <th>0<\/th>\n",
       "      <th>1<\/th>\n",
       "      <th>2<\/th>\n",
       "      <th>3<\/th>\n",
       "      <th>4<\/th>\n",
       "    <\/tr>\n",
       "  <\/thead>\n",
       "  <tbody>\n",
       "    <tr>\n",
       "      <th>145<\/th>\n",
       "      <td>6.7<\/td>\n",
       "      <td>3.0<\/td>\n",
       "      <td>5.2<\/td>\n",
       "      <td>2.3<\/td>\n",
       "      <td>Iris-virginica<\/td>\n",
       "    <\/tr>\n",
       "    <tr>\n",
       "      <th>146<\/th>\n",
       "      <td>6.3<\/td>\n",
       "      <td>2.5<\/td>\n",
       "      <td>5.0<\/td>\n",
       "      <td>1.9<\/td>\n",
       "      <td>Iris-virginica<\/td>\n",
       "    <\/tr>\n",
       "    <tr>\n",
       "      <th>147<\/th>\n",
       "      <td>6.5<\/td>\n",
       "      <td>3.0<\/td>\n",
       "      <td>5.2<\/td>\n",
       "      <td>2.0<\/td>\n",
       "      <td>Iris-virginica<\/td>\n",
       "    <\/tr>\n",
       "    <tr>\n",
       "      <th>148<\/th>\n",
       "      <td>6.2<\/td>\n",
       "      <td>3.4<\/td>\n",
       "      <td>5.4<\/td>\n",
       "      <td>2.3<\/td>\n",
       "      <td>Iris-virginica<\/td>\n",
       "    <\/tr>\n",
       "    <tr>\n",
       "      <th>149<\/th>\n",
       "      <td>5.9<\/td>\n",
       "      <td>3.0<\/td>\n",
       "      <td>5.1<\/td>\n",
       "      <td>1.8<\/td>\n",
       "      <td>Iris-virginica<\/td>\n",
       "    <\/tr>\n",
       "  <\/tbody>\n",
       "<\/table>\n",
       "<\/div>"
      ]
     },
     "metadata":{
      
     },
     "output_type":"display_data"
    }
   ],
   "metadata":{
    "datalore":{
     "type":"CODE",
     "hide_input_from_viewers":false,
     "hide_output_from_viewers":false
    }
   }
  }
 ],
 "metadata":{
  "datalore":{
   "version":1,
   "computation_mode":"JUPYTER",
   "package_manager":"pip",
   "base_environment":"default",
   "packages":[
    
   ]
  }
 },
 "nbformat":4,
 "nbformat_minor":4
}