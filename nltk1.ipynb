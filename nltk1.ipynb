{
  "nbformat": 4,
  "nbformat_minor": 0,
  "metadata": {
    "colab": {
      "name": "Untitled12.ipynb",
      "provenance": []
    },
    "kernelspec": {
      "name": "python3",
      "display_name": "Python 3"
    }
  },
  "cells": [
    {
      "cell_type": "code",
      "metadata": {
        "id": "3FvJAQM2G7tb",
        "colab": {
          "base_uri": "https://localhost:8080/"
        },
        "outputId": "b8815760-5b7c-4cc5-88fc-43dacdc9da2b"
      },
      "source": [
        "import nltk\r\n",
        "text=\"Today is a great day for stocks\"\r\n",
        "print(nltk.word_tokenize(text))"
      ],
      "execution_count": 12,
      "outputs": [
        {
          "output_type": "stream",
          "text": [
            "['Today', 'is', 'a', 'great', 'day', 'for', 'stocks']\n"
          ],
          "name": "stdout"
        }
      ]
    }
  ]
}