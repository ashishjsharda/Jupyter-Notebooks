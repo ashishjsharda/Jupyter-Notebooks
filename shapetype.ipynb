{
  "nbformat": 4,
  "nbformat_minor": 0,
  "metadata": {
    "colab": {
      "name": "Untitled31.ipynb",
      "provenance": []
    },
    "kernelspec": {
      "name": "python3",
      "display_name": "Python 3"
    },
    "language_info": {
      "name": "python"
    }
  },
  "cells": [
    {
      "cell_type": "code",
      "metadata": {
        "colab": {
          "base_uri": "https://localhost:8080/"
        },
        "id": "WMnn7LXqYkd_",
        "outputId": "0f9470ec-440b-4f8f-9f45-a80bff1dd2ab"
      },
      "source": [
        "from sklearn.datasets import load_iris\n",
        "iris_dataset=load_iris()\n",
        "print(\"List of keys\",iris_dataset.keys())\n",
        "print(\"Target Names are \",iris_dataset['target_names'])\n",
        "print(\"Type of data is\",type(iris_dataset['data']))\n",
        "print(\"Shape of data is\",iris_dataset['target_names'].shape)"
      ],
      "execution_count": 10,
      "outputs": [
        {
          "output_type": "stream",
          "text": [
            "List of keys dict_keys(['data', 'target', 'target_names', 'DESCR', 'feature_names', 'filename'])\n",
            "Target Names are  ['setosa' 'versicolor' 'virginica']\n",
            "Type of data is <class 'numpy.ndarray'>\n",
            "Shape of data is (3,)\n"
          ],
          "name": "stdout"
        }
      ]
    }
  ]
}