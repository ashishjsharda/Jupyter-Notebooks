{
  "nbformat": 4,
  "nbformat_minor": 0,
  "metadata": {
    "colab": {
      "provenance": []
    },
    "kernelspec": {
      "name": "python3",
      "display_name": "Python 3"
    },
    "language_info": {
      "name": "python"
    }
  },
  "cells": [
    {
      "cell_type": "code",
      "execution_count": 3,
      "metadata": {
        "colab": {
          "base_uri": "https://localhost:8080/"
        },
        "id": "JDdMZ2ZljPr9",
        "outputId": "1d5b9efb-61ea-4cfb-ae44-9002b30d5ac7"
      },
      "outputs": [
        {
          "output_type": "stream",
          "name": "stdout",
          "text": [
            "Z-Score: [-0.7574907  -0.59097335 -0.20243286  0.35262498  0.6301539  -0.72973781\n",
            " -0.70198492 -0.00816262  0.13060185  0.54689523  1.10195307  3.32218443\n",
            " -0.67423202 -0.64647913 -0.61872624 -0.59097335 -0.56322046]\n",
            "\n",
            "The outliers in the dataset are [150]\n"
          ]
        }
      ],
      "source": [
        "import numpy as np\n",
        "\n",
        "def calculate_z_score(data):\n",
        "  mean=np.mean(data)\n",
        "  std_dev=np.std(data)\n",
        "  z_scores=(data-mean) /std_dev\n",
        "  return z_scores\n",
        "\n",
        "dataset = [3, 9, 23, 43, 53, 4, 5, 30, 35, 50, 70, 150, 6, 7, 8, 9, 10]\n",
        "z_scores = calculate_z_score(dataset)\n",
        "print('Z-Score:', z_scores)\n",
        "\n",
        "# Identify outliers\n",
        "outliers = [data_point for data_point, z_score in zip(dataset, z_scores) if z_score > 3]\n",
        "print(f'\\nThe outliers in the dataset are {outliers}')"
      ]
    }
  ]
}