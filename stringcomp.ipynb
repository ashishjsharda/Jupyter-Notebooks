{
  "cells":[
    {
      "cell_type":"code",
      "source":[
        "s1 = 'café'\n",
        "s2 = 'cafe\\N{COMBINING ACUTE ACCENT}'\n",
        "print(s1,s2)\n",
        "print(s1==s2)"
      ],
      "execution_count":2,
      "outputs":[
        {
          "name":"stdout",
          "text":[
            "café café\n",
            "False\n"
          ],
          "output_type":"stream"
        }
      ],
      "metadata":{
        
      }
    }
  ],
  "metadata":{
    
  },
  "nbformat":4,
  "nbformat_minor":0
}