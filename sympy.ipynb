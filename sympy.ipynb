{
  "cells":[
    {
      "cell_type":"code",
      "source":[
        "import  sympy\n",
        "sympy.init_printing()\n",
        "A=sympy.Matrix([[2,3],[4,5]])\n",
        "b=sympy.Matrix([4,3])\n",
        "print(A.rank())\n",
        "print(b.rank())\n",
        "print(A.condition_number())"
      ],
      "execution_count":6,
      "outputs":[
        {
          "name":"stdout",
          "text":[
            "2\n",
            "1\n",
            "sqrt(5*sqrt(29) + 27)\/sqrt(27 - 5*sqrt(29))\n"
          ],
          "output_type":"stream"
        }
      ],
      "metadata":{
        
      }
    }
  ],
  "metadata":{
    
  },
  "nbformat":4,
  "nbformat_minor":0
}