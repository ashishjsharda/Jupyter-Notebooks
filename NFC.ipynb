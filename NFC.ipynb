{
  "cells":[
    {
      "cell_type":"code",
      "source":[
        "import unicodedata\n",
        "import string\n",
        "\n",
        "\n",
        "def shave_marks(txt):\n",
        "    \"\"\"Remove all diacritic marks\"\"\"\n",
        "    norm_txt = unicodedata.normalize('NFD', txt)  \n",
        "    shaved = ''.join(c for c in norm_txt\n",
        "                     if not unicodedata.combining(c))  \n",
        "    return unicodedata.normalize('NFC', shaved)"
      ],
      "execution_count":1,
      "outputs":[
        
      ],
      "metadata":{
        
      }
    },
    {
      "cell_type":"code",
      "source":[
        "order = '“Herr Voß: • ½ cup of Œtker™ caffè latte • bowl of açaí.”'\n",
        "shave_marks(order)"
      ],
      "execution_count":3,
      "outputs":[
        {
          "data":{
            "text\/plain":[
              "'“Herr Voß: • ½ cup of Œtker™ caffe latte • bowl of acai.”'"
            ]
          },
          "metadata":{
            
          },
          "output_type":"display_data"
        }
      ],
      "metadata":{
        
      }
    }
  ],
  "metadata":{
    
  },
  "nbformat":4,
  "nbformat_minor":0
}