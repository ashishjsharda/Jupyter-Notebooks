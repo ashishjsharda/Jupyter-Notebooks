{
 "cells":[
  {
   "cell_type":"code",
   "source":[
    "import numpy as np\n",
    "\n",
    "mean = [0, 0]\n",
    "cov = [[1, 2],[2, 5]]\n",
    "rand = np.random.RandomState(42)\n",
    "X = rand.multivariate_normal(mean, cov, 100)\n",
    "indices=np.random.choice(X.shape[0], 20, replace=False)\n",
    "indices"
   ],
   "execution_count":2,
   "outputs":[
    {
     "data":{
      "text\/html":[
       
      ]
     },
     "metadata":{
      
     },
     "output_type":"display_data"
    }
   ],
   "metadata":{
    "datalore":{
     "node_id":"iqKbrTDhGqgJMrC4yxihmK",
     "type":"CODE",
     "hide_input_from_viewers":false,
     "hide_output_from_viewers":false
    }
   }
  }
 ],
 "metadata":{
  "kernelspec":{
   "display_name":"Python",
   "language":"python",
   "name":"python"
  },
  "datalore":{
   "version":1,
   "computation_mode":"JUPYTER",
   "package_manager":"pip",
   "base_environment":"default",
   "packages":[
    
   ]
  }
 },
 "nbformat":4,
 "nbformat_minor":4
}