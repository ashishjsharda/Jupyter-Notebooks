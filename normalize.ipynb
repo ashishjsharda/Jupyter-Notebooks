{
  "cells":[
    {
      "cell_type":"code",
      "source":[
        "from unicodedata import normalize, name\n",
        "ohm='\\u2126'\n",
        "name(ohm)"
      ],
      "execution_count":1,
      "outputs":[
        {
          "data":{
            "text\/plain":[
              "'OHM SIGN'"
            ]
          },
          "metadata":{
            
          },
          "output_type":"display_data"
        }
      ],
      "metadata":{
        
      }
    },
    {
      "cell_type":"code",
      "source":[
        "ohm_c = normalize('NFC', ohm)\n",
        "name(ohm_c)"
      ],
      "execution_count":2,
      "outputs":[
        {
          "data":{
            "text\/plain":[
              "'GREEK CAPITAL LETTER OMEGA'"
            ]
          },
          "metadata":{
            
          },
          "output_type":"display_data"
        }
      ],
      "metadata":{
        
      }
    }
  ],
  "metadata":{
    
  },
  "nbformat":4,
  "nbformat_minor":0
}