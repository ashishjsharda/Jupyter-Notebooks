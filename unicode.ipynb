{
  "cells":[
    {
      "cell_type":"code",
      "source":[
        "symbols = '$¢£¥€¤'\n",
        "codes=[]\n",
        "for symbol in symbols:\n",
        "    codes.append(ord(symbol))\n",
        "codes"
      ],
      "execution_count":2,
      "outputs":[
        {
          "data":{
            "text\/plain":[
              "[36, 162, 163, 165, 8364, 164]"
            ]
          },
          "metadata":{
            
          },
          "output_type":"display_data"
        }
      ],
      "metadata":{
        
      }
    }
  ],
  "metadata":{
    
  },
  "nbformat":4,
  "nbformat_minor":0
}