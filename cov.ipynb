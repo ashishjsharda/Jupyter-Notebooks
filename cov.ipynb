{
  "cells":[
    {
      "cell_type":"code",
      "source":[
        "import pandas as pd\n",
        "df = pd.DataFrame([(1, 2), (0, 3), (2, 0), (1, 1)],\n",
        "                  columns=['dogs', 'cats'])\n",
        "df.cov()"
      ],
      "execution_count":1,
      "outputs":[
        {
          "data":{
            "text\/html":[
              "<div>\n",
              "<style scoped>\n",
              "    .dataframe tbody tr th:only-of-type {\n",
              "        vertical-align: middle;\n",
              "    }\n",
              "\n",
              "    .dataframe tbody tr th {\n",
              "        vertical-align: top;\n",
              "    }\n",
              "\n",
              "    .dataframe thead th {\n",
              "        text-align: right;\n",
              "    }\n",
              "<\/style>\n",
              "<table border=\"1\" class=\"dataframe\">\n",
              "  <thead>\n",
              "    <tr style=\"text-align: right;\">\n",
              "      <th><\/th>\n",
              "      <th>dogs<\/th>\n",
              "      <th>cats<\/th>\n",
              "    <\/tr>\n",
              "  <\/thead>\n",
              "  <tbody>\n",
              "    <tr>\n",
              "      <th>dogs<\/th>\n",
              "      <td>0.666667<\/td>\n",
              "      <td>-1.000000<\/td>\n",
              "    <\/tr>\n",
              "    <tr>\n",
              "      <th>cats<\/th>\n",
              "      <td>-1.000000<\/td>\n",
              "      <td>1.666667<\/td>\n",
              "    <\/tr>\n",
              "  <\/tbody>\n",
              "<\/table>\n",
              "<\/div>"
            ]
          },
          "metadata":{
            
          },
          "output_type":"display_data"
        }
      ],
      "metadata":{
        "jupyter":{
          "source_hidden":false,
          "outputs_hidden":false
        },
        "datalore":{
          "type":"CODE",
          "sheet_delimiter":false
        }
      }
    }
  ],
  "metadata":{
    "datalore":{
      "version":1,
      "computation_mode":"JUPYTER",
      "package_manager":"pip",
      "base_environment":"default",
      "packages":[
        
      ]
    }
  },
  "nbformat":4,
  "nbformat_minor":4
}