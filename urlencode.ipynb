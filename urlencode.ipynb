{
 "cells":[
  {
   "cell_type":"code",
   "source":[
    "import json\n",
    "from urllib.request import urlopen\n",
    "from urllib.parse import urlencode\n",
    "\n",
    "params = dict(q='Sausages', format='json')\n",
    "handle = urlopen('http:\/\/api.duckduckgo.com' + '?' + urlencode(params))\n",
    "raw_text = handle.read().decode('utf8')\n",
    "parsed = json.loads(raw_text)\n",
    "\n",
    "results = parsed['RelatedTopics']\n",
    "for r in results:\n",
    "    if 'Text' in r:\n",
    "        print(r['FirstURL'] + ' - ' + r['Text'])"
   ],
   "execution_count":2,
   "outputs":[
    {
     "name":"stdout",
     "text":[
      "https:\/\/duckduckgo.com\/Sausage - Sausage A cylindrical meat product usually made from ground meat, often pork, beef, or veal, along...\n",
      "https:\/\/duckduckgo.com\/Sausage_(band) - Sausage (band) A short-lived alternative\/funk rock band featuring a reunion of the 1988 lineup of the San...\n",
      "https:\/\/duckduckgo.com\/Sausage_Software - Sausage Software An Australian software company, founded by entrepreneur Steve Outtrim, which produced one of the...\n",
      "https:\/\/duckduckgo.com\/dachshund - Sausage dog A short-legged, long-bodied, hound-type dog breed.\n"
     ],
     "output_type":"stream"
    }
   ],
   "metadata":{
    "datalore":{
     "node_id":"Iuskrj7B9KhyNBxwFuZaO6",
     "type":"CODE",
     "hide_input_from_viewers":false,
     "hide_output_from_viewers":false
    }
   }
  }
 ],
 "metadata":{
  "kernelspec":{
   "display_name":"Python",
   "language":"python",
   "name":"python"
  },
  "datalore":{
   "version":1,
   "computation_mode":"JUPYTER",
   "package_manager":"pip",
   "base_environment":"default",
   "packages":[
    
   ]
  }
 },
 "nbformat":4,
 "nbformat_minor":4
}