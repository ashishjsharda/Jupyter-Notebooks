{
  "nbformat": 4,
  "nbformat_minor": 0,
  "metadata": {
    "colab": {
      "provenance": []
    },
    "kernelspec": {
      "name": "python3",
      "display_name": "Python 3"
    },
    "language_info": {
      "name": "python"
    }
  },
  "cells": [
    {
      "cell_type": "code",
      "execution_count": 1,
      "metadata": {
        "colab": {
          "base_uri": "https://localhost:8080/"
        },
        "id": "h0Xs5y5h9uuZ",
        "outputId": "ea5dea83-b1aa-43fe-aacf-abdacfbd03c0"
      },
      "outputs": [
        {
          "output_type": "stream",
          "name": "stdout",
          "text": [
            "a591a6d40bf420404a011733cfb7b190d62c65bf0bcda32b57b277d9ad9f146e\n"
          ]
        }
      ],
      "source": [
        "import hashlib\n",
        "\n",
        "def hash_function(input_str):\n",
        "    hash_obj = hashlib.sha256()\n",
        "    hash_obj.update(input_str.encode('utf-8'))\n",
        "    return hash_obj.hexdigest()\n",
        "\n",
        "input_str = \"Hello World\"\n",
        "print(hash_function(input_str))"
      ]
    }
  ]
}