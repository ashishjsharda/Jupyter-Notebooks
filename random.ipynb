{
  "nbformat": 4,
  "nbformat_minor": 0,
  "metadata": {
    "colab": {
      "name": "Untitled40.ipynb",
      "provenance": []
    },
    "kernelspec": {
      "name": "python3",
      "display_name": "Python 3"
    },
    "language_info": {
      "name": "python"
    }
  },
  "cells": [
    {
      "cell_type": "code",
      "metadata": {
        "colab": {
          "base_uri": "https://localhost:8080/"
        },
        "id": "kVvpWK5unfsX",
        "outputId": "1399cd73-dba8-4630-af37-1a30bdaf06b5"
      },
      "source": [
        "import random\n",
        "random.seed(10)\n",
        "print(random.random())"
      ],
      "execution_count": 3,
      "outputs": [
        {
          "output_type": "stream",
          "text": [
            "0.5714025946899135\n"
          ],
          "name": "stdout"
        }
      ]
    }
  ]
}