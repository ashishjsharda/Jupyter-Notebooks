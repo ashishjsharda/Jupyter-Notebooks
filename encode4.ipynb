{
  "cells":[
    {
      "cell_type":"code",
      "source":[
        "u16le = 'El Niño'.encode('utf_16le')\n",
        "print(list(u16le))\n",
        "u16be = 'El Niño'.encode('utf_16be')\n",
        "print(list(u16be))"
      ],
      "execution_count":2,
      "outputs":[
        {
          "name":"stdout",
          "text":[
            "[69, 0, 108, 0, 32, 0, 78, 0, 105, 0, 241, 0, 111, 0]\n",
            "[0, 69, 0, 108, 0, 32, 0, 78, 0, 105, 0, 241, 0, 111]\n"
          ],
          "output_type":"stream"
        }
      ],
      "metadata":{
        
      }
    }
  ],
  "metadata":{
    
  },
  "nbformat":4,
  "nbformat_minor":0
}