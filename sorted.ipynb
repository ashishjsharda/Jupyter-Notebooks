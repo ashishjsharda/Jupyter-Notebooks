{
  "cells":[
    {
      "cell_type":"code",
      "source":[
        "l=[10,19,4,8,20,'55','19','5']\n",
        "sorted(l,key=int)"
      ],
      "execution_count":3,
      "outputs":[
        {
          "data":{
            "text\/plain":[
              "[4, '5', 8, 10, 19, '19', 20, '55']"
            ]
          },
          "metadata":{
            
          },
          "output_type":"display_data"
        }
      ],
      "metadata":{
        
      }
    }
  ],
  "metadata":{
    
  },
  "nbformat":4,
  "nbformat_minor":0
}