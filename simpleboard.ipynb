{
  "cells":[
    {
      "cell_type":"code",
      "source":[
        "board = [['_'] * 3 for i in range(3)] \n",
        "board"
      ],
      "execution_count":1,
      "outputs":[
        {
          "data":{
            "text\/plain":[
              "[['_', '_', '_'], ['_', '_', '_'], ['_', '_', '_']]"
            ]
          },
          "metadata":{
            
          },
          "output_type":"display_data"
        }
      ],
      "metadata":{
        
      }
    }
  ],
  "metadata":{
    
  },
  "nbformat":4,
  "nbformat_minor":0
}