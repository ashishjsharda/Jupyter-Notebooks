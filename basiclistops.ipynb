{
  "cells":[
    {
      "cell_type":"code",
      "source":[
        "tf=[10,20,1,9,20]\n",
        "tf.reverse()\n",
        "tf.pop(2)\n",
        "tf"
      ],
      "execution_count":5,
      "outputs":[
        {
          "data":{
            "text\/plain":[
              "[20, 9, 20, 10]"
            ]
          },
          "metadata":{
            
          },
          "output_type":"display_data"
        }
      ],
      "metadata":{
        
      }
    }
  ],
  "metadata":{
    
  },
  "nbformat":4,
  "nbformat_minor":0
}