{
  "cells":[
    {
      "cell_type":"code",
      "source":[
        "l=[10,19,4,8,20]\n",
        "sorted(l)"
      ],
      "execution_count":1,
      "outputs":[
        {
          "data":{
            "text\/plain":[
              "[4, 8, 10, 19, 20]"
            ]
          },
          "metadata":{
            
          },
          "output_type":"display_data"
        }
      ],
      "metadata":{
        
      }
    }
  ],
  "metadata":{
    
  },
  "nbformat":4,
  "nbformat_minor":0
}