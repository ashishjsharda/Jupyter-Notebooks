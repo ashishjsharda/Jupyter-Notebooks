{
  "cells":[
    {
      "cell_type":"code",
      "source":[
        "s = 'café'\n",
        "len(s)\n",
        "b=s.encode('utf8')\n",
        "print(b)\n",
        "len(b)"
      ],
      "execution_count":5,
      "outputs":[
        {
          "name":"stdout",
          "text":[
            "b'caf\\xc3\\xa9'\n"
          ],
          "output_type":"stream"
        },
        {
          "data":{
            "text\/plain":[
              "5"
            ]
          },
          "metadata":{
            
          },
          "output_type":"display_data"
        }
      ],
      "metadata":{
        
      }
    }
  ],
  "metadata":{
    
  },
  "nbformat":4,
  "nbformat_minor":0
}