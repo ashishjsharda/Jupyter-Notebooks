{
  "nbformat": 4,
  "nbformat_minor": 0,
  "metadata": {
    "colab": {
      "name": "Untitled11.ipynb",
      "provenance": []
    },
    "kernelspec": {
      "name": "python3",
      "display_name": "Python 3"
    }
  },
  "cells": [
    {
      "cell_type": "code",
      "metadata": {
        "colab": {
          "base_uri": "https://localhost:8080/"
        },
        "id": "l3SAlgZCAqKQ",
        "outputId": "b3ecbdc2-b36b-4579-94ce-83235aa0757e"
      },
      "source": [
        "import tensorflow as tf\r\n",
        "tf.compat.v1.disable_eager_execution() # need to disable eager in TF2.x\r\n",
        "hello = tf.constant('Hello, Tensorflow!')\r\n",
        "# Launch the graph in a session.\r\n",
        "sess = tf.compat.v1.Session()\r\n",
        "print(sess.run(hello)) # prints 30.0"
      ],
      "execution_count": 13,
      "outputs": [
        {
          "output_type": "stream",
          "text": [
            "b'Hello, Tensorflow!'\n"
          ],
          "name": "stdout"
        }
      ]
    }
  ]
}