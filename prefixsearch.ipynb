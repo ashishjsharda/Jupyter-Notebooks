{
  "nbformat": 4,
  "nbformat_minor": 0,
  "metadata": {
    "colab": {
      "provenance": []
    },
    "kernelspec": {
      "name": "python3",
      "display_name": "Python 3"
    },
    "language_info": {
      "name": "python"
    }
  },
  "cells": [
    {
      "cell_type": "code",
      "execution_count": 1,
      "metadata": {
        "colab": {
          "base_uri": "https://localhost:8080/"
        },
        "id": "bGU6WEU4SOgv",
        "outputId": "982db0e9-e653-44d6-fe85-e94cc385d88a"
      },
      "outputs": [
        {
          "output_type": "stream",
          "name": "stdout",
          "text": [
            "Prefix 'app' found.\n",
            "Prefix 'ban' found.\n",
            "Prefix 'ora' found.\n",
            "Prefix 'grape' not found.\n"
          ]
        }
      ],
      "source": [
        "class TrieNode:\n",
        "    def __init__(self):\n",
        "        self.children = {}\n",
        "        self.is_end_of_word = False\n",
        "\n",
        "class Trie:\n",
        "    def __init__(self):\n",
        "        self.root = TrieNode()\n",
        "\n",
        "    def insert(self, word):\n",
        "        node = self.root\n",
        "        for char in word:\n",
        "            if char not in node.children:\n",
        "                node.children[char] = TrieNode()\n",
        "            node = node.children[char]\n",
        "        node.is_end_of_word = True\n",
        "\n",
        "    def search(self, prefix):\n",
        "        node = self.root\n",
        "        for char in prefix:\n",
        "            if char not in node.children:\n",
        "                return False\n",
        "            node = node.children[char]\n",
        "        return True\n",
        "\n",
        "\n",
        "trie = Trie()\n",
        "words = [\"apple\", \"app\", \"banana\", \"orange\", \"application\"]\n",
        "\n",
        "for word in words:\n",
        "    trie.insert(word)\n",
        "\n",
        "prefixes_to_search = [\"app\", \"ban\", \"ora\", \"grape\"]\n",
        "for prefix in prefixes_to_search:\n",
        "    if trie.search(prefix):\n",
        "        print(f\"Prefix '{prefix}' found.\")\n",
        "    else:\n",
        "        print(f\"Prefix '{prefix}' not found.\")\n"
      ]
    }
  ]
}