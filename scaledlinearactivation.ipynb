{
  "nbformat": 4,
  "nbformat_minor": 0,
  "metadata": {
    "colab": {
      "provenance": []
    },
    "kernelspec": {
      "name": "python3",
      "display_name": "Python 3"
    },
    "language_info": {
      "name": "python"
    }
  },
  "cells": [
    {
      "cell_type": "code",
      "execution_count": 4,
      "metadata": {
        "colab": {
          "base_uri": "https://localhost:8080/"
        },
        "id": "iIzEg5BBhWhu",
        "outputId": "8473df29-60e2-4d56-d844-54dff82185a9"
      },
      "outputs": [
        {
          "output_type": "stream",
          "name": "stdout",
          "text": [
            "Input: [-2 -1  0  1  2]\n",
            "Output: [-4 -2  0  2  4]\n"
          ]
        }
      ],
      "source": [
        "import numpy as np\n",
        "\n",
        "\n",
        "def scaled_linear_activation(x,scale=2):\n",
        "    return x*scale\n",
        "\n",
        "#input\n",
        "x = np.array([-2, -1, 0, 1, 2])\n",
        "\n",
        "# Apply the  function\n",
        "y = scaled_linear_activation(x)\n",
        "\n",
        "print(\"Input:\", x)\n",
        "print(\"Output:\", y)"
      ]
    }
  ]
}