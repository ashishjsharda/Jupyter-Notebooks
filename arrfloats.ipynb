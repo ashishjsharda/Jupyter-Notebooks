{
  "cells":[
    {
      "cell_type":"code",
      "source":[
        "from array import array\n",
        "from random import random\n",
        "floats = array('d', (random() for i in range(10**7)))\n",
        "floats[-1]"
      ],
      "execution_count":1,
      "outputs":[
        {
          "data":{
            "text\/plain":[
              "0.6092823279725305"
            ]
          },
          "metadata":{
            
          },
          "output_type":"display_data"
        }
      ],
      "metadata":{
        
      }
    }
  ],
  "metadata":{
    
  },
  "nbformat":4,
  "nbformat_minor":0
}