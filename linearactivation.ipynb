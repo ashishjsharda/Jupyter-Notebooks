{
  "nbformat": 4,
  "nbformat_minor": 0,
  "metadata": {
    "colab": {
      "provenance": []
    },
    "kernelspec": {
      "name": "python3",
      "display_name": "Python 3"
    },
    "language_info": {
      "name": "python"
    }
  },
  "cells": [
    {
      "cell_type": "code",
      "execution_count": 3,
      "metadata": {
        "colab": {
          "base_uri": "https://localhost:8080/"
        },
        "id": "iIzEg5BBhWhu",
        "outputId": "326749fe-26e7-4906-df30-4aa9941045a2"
      },
      "outputs": [
        {
          "output_type": "stream",
          "name": "stdout",
          "text": [
            "Input: [-2 -1  0  1  2]\n",
            "Output: [-2 -1  0  1  2]\n"
          ]
        }
      ],
      "source": [
        "import numpy as np\n",
        "\n",
        "\n",
        "def linear_activation(x):\n",
        "    return x\n",
        "\n",
        "#input\n",
        "x = np.array([-2, -1, 0, 1, 2])\n",
        "\n",
        "# Apply the  function\n",
        "y = linear_activation(x)\n",
        "\n",
        "print(\"Input:\", x)\n",
        "print(\"Output:\", y)"
      ]
    }
  ]
}