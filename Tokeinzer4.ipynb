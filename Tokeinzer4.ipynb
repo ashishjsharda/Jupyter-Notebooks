{
  "nbformat": 4,
  "nbformat_minor": 0,
  "metadata": {
    "colab": {
      "name": "Untitled24.ipynb",
      "provenance": []
    },
    "kernelspec": {
      "name": "python3",
      "display_name": "Python 3"
    },
    "language_info": {
      "name": "python"
    }
  },
  "cells": [
    {
      "cell_type": "code",
      "metadata": {
        "id": "XMlHL02Serim"
      },
      "source": [
        "import tensorflow as tf\n",
        "from tensorflow import keras\n",
        "from tensorflow.keras.preprocessing.text import Tokenizer"
      ],
      "execution_count": 2,
      "outputs": []
    },
    {
      "cell_type": "code",
      "metadata": {
        "id": "T3JThazse8pr"
      },
      "source": [
        "sentences=[\n",
        "           'Today is Saturday',\n",
        "           'It is hot and sunny'\n",
        "]"
      ],
      "execution_count": 3,
      "outputs": []
    },
    {
      "cell_type": "code",
      "metadata": {
        "colab": {
          "base_uri": "https://localhost:8080/"
        },
        "id": "rOBZy8idfiDX",
        "outputId": "54da21c6-15e8-4325-c75d-6e840c2663e6"
      },
      "source": [
        "tokenizer=Tokenizer(num_words=40)\n",
        "tokenizer.fit_on_texts(sentences)\n",
        "word_index=tokenizer.word_index\n",
        "print(word_index)"
      ],
      "execution_count": 5,
      "outputs": [
        {
          "output_type": "stream",
          "text": [
            "{'is': 1, 'today': 2, 'saturday': 3, 'it': 4, 'hot': 5, 'and': 6, 'sunny': 7}\n"
          ],
          "name": "stdout"
        }
      ]
    }
  ]
}