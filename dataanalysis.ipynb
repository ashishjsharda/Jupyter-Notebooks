{
  "nbformat": 4,
  "nbformat_minor": 0,
  "metadata": {
    "colab": {
      "provenance": [],
      "toc_visible": true
    },
    "kernelspec": {
      "name": "python3",
      "display_name": "Python 3"
    },
    "language_info": {
      "name": "python"
    }
  },
  "cells": [
    {
      "cell_type": "code",
      "execution_count": 3,
      "metadata": {
        "colab": {
          "base_uri": "https://localhost:8080/"
        },
        "id": "pYov_Ldgqs3R",
        "outputId": "deb562de-fb32-4ebd-8f84-7d0b06909f43"
      },
      "outputs": [
        {
          "output_type": "stream",
          "name": "stdout",
          "text": [
            "Mean age: 20.0\n",
            "Mean test score: 90.33333333333333\n",
            "Maximum test score: 94\n",
            "Minimum test score: 85\n",
            "Standard deviation of test scores: 3.858612300930075\n",
            "Top 5 students by test scores:\n",
            "b'John' : 85\n",
            "b'Alice' : 92\n",
            "b'Patrick' : 94\n",
            "Number of passing students: 3\n",
            "Average test scores by age:\n",
            "Age 19 : 92.0\n",
            "Age 20 : 85.0\n",
            "Age 21 : 94.0\n"
          ]
        },
        {
          "output_type": "stream",
          "name": "stderr",
          "text": [
            "<ipython-input-3-56311096c382>:3: VisibleDeprecationWarning: Reading unicode strings without specifying the encoding argument is deprecated. Set the encoding, use None for the system default.\n",
            "  data = np.genfromtxt('students.csv', delimiter=',', skip_header=1, dtype=None, names=('Name', 'Age', 'Test_Score'))\n"
          ]
        }
      ],
      "source": [
        "import numpy as np\n",
        "\n",
        "data = np.genfromtxt('students.csv', delimiter=',', skip_header=1, dtype=None, names=('Name', 'Age', 'Test_Score'))\n",
        "ages = data['Age']\n",
        "test_scores = data['Test_Score']\n",
        "mean_age = np.mean(ages)\n",
        "mean_score = np.mean(test_scores)\n",
        "max_score = np.max(test_scores)\n",
        "min_score = np.min(test_scores)\n",
        "std_score = np.std(test_scores)\n",
        "sorted_data = data[np.argsort(data['Test_Score'])]\n",
        "N = 5\n",
        "top_students = sorted_data[-N:]\n",
        "passing_students = data[data['Test_Score'] >= 70]\n",
        "unique_ages = np.unique(ages)\n",
        "average_scores_by_age = [np.mean(test_scores[ages == age]) for age in unique_ages]\n",
        "normalized_scores = (test_scores - mean_score) / std_score\n",
        "double_scores = test_scores * 2\n",
        "print(\"Mean age:\", mean_age)\n",
        "print(\"Mean test score:\", mean_score)\n",
        "print(\"Maximum test score:\", max_score)\n",
        "print(\"Minimum test score:\", min_score)\n",
        "print(\"Standard deviation of test scores:\", std_score)\n",
        "print(\"Top\", N, \"students by test scores:\")\n",
        "for student in top_students:\n",
        "    print(student['Name'], \":\", student['Test_Score'])\n",
        "print(\"Number of passing students:\", len(passing_students))\n",
        "print(\"Average test scores by age:\")\n",
        "for i, age in enumerate(unique_ages):\n",
        "    print(\"Age\", age, \":\", average_scores_by_age[i])\n"
      ]
    }
  ]
}