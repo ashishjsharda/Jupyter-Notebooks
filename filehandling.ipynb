{
  "cells":[
    {
      "cell_type":"code",
      "source":[
        "open(\"cafe.txt\",'w',encoding='utf_8').write(\"cafe\")\n",
        "open(\"cafe.txt\").read()"
      ],
      "execution_count":3,
      "outputs":[
        {
          "data":{
            "text\/plain":[
              "'cafe'"
            ]
          },
          "metadata":{
            
          },
          "output_type":"display_data"
        }
      ],
      "metadata":{
        
      }
    }
  ],
  "metadata":{
    
  },
  "nbformat":4,
  "nbformat_minor":0
}